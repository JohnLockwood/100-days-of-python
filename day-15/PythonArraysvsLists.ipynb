{
 "cells": [
  {
   "cell_type": "markdown",
   "id": "38515316",
   "metadata": {},
   "source": [
    "# Python Lists and Arrays\n",
    "\n",
    "\n",
    "This notebook contains the code and most of the text for the article [Python Lists vs. Arrays:  How to Choose Between Them](https://codesolid.com/python-lists-vs-arrays/).  See the article for further details and analysis.\n",
    "\n",
    "When newcomers think of arrays, they may have an idea that this is implemented in Python as the built in list type.  However, as in other languages, Python lists and arrays are actually quite different.  Even experienced Python developers often reach for the list type first when they need a sequence type, but there are advantages to how arrays are implemented.  \n",
    "\n",
    "As with most things in Python, the language's consistency means that you can often easily replace the one with the other, or at least, thir APIs are very similar.   Let's look at arrays and lists in turn."
   ]
  },
  {
   "cell_type": "code",
   "execution_count": 1,
   "id": "4dc654d9",
   "metadata": {},
   "outputs": [
    {
     "data": {
      "text/plain": [
       "'3.8.12 (9ef55f6fc369, Oct 25 2021, 05:10:01)\\n[PyPy 7.3.7 with GCC Apple LLVM 13.0.0 (clang-1300.0.29.3)]'"
      ]
     },
     "execution_count": 1,
     "metadata": {},
     "output_type": "execute_result"
    }
   ],
   "source": [
    "import sys\n",
    "sys.version"
   ]
  },
  {
   "cell_type": "code",
   "execution_count": 1,
   "id": "d5599537",
   "metadata": {},
   "outputs": [
    {
     "name": "stdout",
     "output_type": "stream",
     "text": [
      "True\n"
     ]
    }
   ],
   "source": [
    "\n",
    "from datetime import datetime\n",
    "\n",
    "# A list initialized with a literal\n",
    "short_list = [\"first\", 2, datetime.now()]\n",
    "\n",
    "# Define a list using a list comprehension\n",
    "long_list = [x for x in range(1,101)]\n",
    "\n",
    "\n",
    "# Lists grow dynamically.\n",
    "long_list_2 = list()\n",
    "for x in range(1,101):\n",
    "    long_list_2.append(x)\n",
    "    \n",
    "print(long_list == long_list_2)"
   ]
  },
  {
   "cell_type": "markdown",
   "id": "885b290a",
   "metadata": {},
   "source": [
    "From the first example above (```short_list```), we see that lists in Python are able to hold elements of disparate types.  The second example (```long_list```) shows a list comprehension to generate a list.  The third example creates a list identical to the one in the second example, using a simple loop as one might do in another language.  The other thing this demonstrates is that the list is created dynamically, and mutated in place.  We call append to add each element in turn, and the list grows in size to accommodate this.\n",
    "\n",
    "Despite the name and the ability to grow dynamically, Python lists are not implemented internally as a linked list.  Rather, they are an array of references to objects, the memory for which is over-allocated as appends are done to be more efficient.  Because they are an array, indexing any object in the list is efficient no matter where in the array the object is located."
   ]
  },
  {
   "cell_type": "markdown",
   "id": "adbf821b",
   "metadata": {},
   "source": [
    "Next we turn to Python arrays.\n",
    "\n",
    "There are a few differences between lists and arrays that we should go over up front:\n",
    "\n",
    "* The list type is always available as part of Python's built-ins.  With arrays, you have to import the array class from the array module.\n",
    "* Arrays do not have a literal syntax like the ```[item1, item2, ..., itemN]``` syntax that can be used to initialize a list.  For arrays, the array constructor must be used.\n",
    "* Arrays must always contain objects of the same type, and the type must be specified when the object is initialized.\n",
    "\n",
    "Some examples will make this clear."
   ]
  },
  {
   "cell_type": "code",
   "execution_count": 2,
   "id": "51358ab5",
   "metadata": {},
   "outputs": [
    {
     "name": "stdout",
     "output_type": "stream",
     "text": [
      "Bytes of length: 5:  b'123\\n4'\n",
      "Raw bytes of length: 6:  b'123\\\\n4'\n"
     ]
    }
   ],
   "source": [
    "b1 = b\"123\\n4\"\n",
    "print(f\"Bytes of length: {len(b1)}:  {b1}\")\n",
    "\n",
    "b2 = br\"123\\n4\"\n",
    "print(f\"Raw bytes of length: {len(b2)}:  {b2}\")\n"
   ]
  },
  {
   "cell_type": "code",
   "execution_count": 60,
   "id": "bc30ed3b",
   "metadata": {},
   "outputs": [
    {
     "name": "stdout",
     "output_type": "stream",
     "text": [
      "b'Python'\n",
      "80\n"
     ]
    }
   ],
   "source": [
    "b1 = b\"Hello, Python fans!\"\n",
    "print(b1[7:13])\n",
    "print(b1[7])\n",
    "\n",
    "# This code would give raise an exception:\n",
    "# TypeError: 'bytes' object does not support item assignment\n",
    "# b1[7] = 'J'"
   ]
  },
  {
   "cell_type": "code",
   "execution_count": 62,
   "id": "08dcdf70",
   "metadata": {},
   "outputs": [
    {
     "name": "stdout",
     "output_type": "stream",
     "text": [
      "<class 'int'>\n"
     ]
    }
   ],
   "source": [
    "bytes_object = b'Python'\n",
    "print(type(bytes_object[0]))"
   ]
  },
  {
   "cell_type": "code",
   "execution_count": 3,
   "id": "311239bb",
   "metadata": {},
   "outputs": [
    {
     "name": "stdout",
     "output_type": "stream",
     "text": [
      "bytearray(b'\\x00\\x00\\x00\\x00\\x00')\n",
      "bytearray(b'Hello')\n"
     ]
    }
   ],
   "source": [
    "bytearray_object = bytearray(100)\n",
    "print(bytearray_object[0:5])\n",
    "bytearray_object[0:5] = b'Hello'\n",
    "print(bytearray_object[0:5])"
   ]
  },
  {
   "cell_type": "code",
   "execution_count": 70,
   "id": "32038dc8",
   "metadata": {},
   "outputs": [
    {
     "name": "stdout",
     "output_type": "stream",
     "text": [
      "alabaster==0.7.12\n",
      "\n",
      "anyio==3.5.0\n",
      "\n",
      "appnope==0.1.2\n",
      "\n",
      "argcomplete==2.0.0\n",
      "\n",
      "argon2-cffi==21.3.0\n",
      "\n",
      "argon2-cffi-bindings==21.2.0\n",
      "\n",
      "asttokens==2.0.5\n",
      "\n",
      "attrs==21.4.0\n",
      "\n",
      "Babel==2.9.1\n",
      "\n",
      "backcall==0.2.0\n",
      "\n",
      "black==21.12b0\n",
      "\n",
      "bleach==4.1.0\n",
      "\n",
      "certifi==2021.10.8\n",
      "\n",
      "cffi==1.15.0\n",
      "\n",
      "charset-normalizer==2.0.10\n",
      "\n",
      "click==8.0.3\n",
      "\n",
      "colorama==0.4.4\n",
      "\n",
      "cycler==0.11.0\n",
      "\n",
      "debugpy==1.5.1\n",
      "\n",
      "decorator==5.1.1\n",
      "\n",
      "defusedxml==0.7.1\n",
      "\n",
      "distlib==0.3.4\n",
      "\n",
      "docutils==0.17.1\n",
      "\n",
      "entrypoints==0.3\n",
      "\n",
      "executing==0.8.2\n",
      "\n",
      "filelock==3.4.2\n",
      "\n",
      "fonttools==4.29.0\n",
      "\n",
      "idna==3.3\n",
      "\n",
      "imagesize==1.3.0\n",
      "\n",
      "iniconfig==1.1.1\n",
      "\n",
      "ipykernel==6.7.0\n",
      "\n",
      "ipython==8.0.1\n",
      "\n",
      "ipython-genutils==0.2.0\n",
      "\n",
      "ipywidgets==7.6.5\n",
      "\n",
      "jedi==0.18.1\n",
      "\n",
      "Jinja2==3.0.3\n",
      "\n",
      "json5==0.9.6\n",
      "\n",
      "jsonschema==4.4.0\n",
      "\n",
      "jupyter==1.0.0\n",
      "\n",
      "jupyter-client==7.1.2\n",
      "\n",
      "jupyter-console==6.4.0\n",
      "\n",
      "jupyter-core==4.9.1\n",
      "\n",
      "jupyter-server==1.13.4\n",
      "\n",
      "jupyterlab==3.2.8\n",
      "\n",
      "jupyterlab-pygments==0.1.2\n",
      "\n",
      "jupyterlab-server==2.10.3\n",
      "\n",
      "jupyterlab-widgets==1.0.2\n",
      "\n",
      "kiwisolver==1.3.2\n",
      "\n",
      "livereload==2.6.3\n",
      "\n",
      "MarkupSafe==2.0.1\n",
      "\n",
      "matplotlib-inline==0.1.3\n",
      "\n",
      "mistune==0.8.4\n",
      "\n",
      "mypy-extensions==0.4.3\n",
      "\n",
      "nbclassic==0.3.5\n",
      "\n",
      "nbclient==0.5.10\n",
      "\n",
      "nbconvert==6.4.1\n",
      "\n",
      "nbformat==5.1.3\n",
      "\n",
      "nest-asyncio==1.5.4\n",
      "\n",
      "notebook==6.4.8\n",
      "\n",
      "numpy==1.22.1\n",
      "\n",
      "packaging==21.3\n",
      "\n",
      "pandocfilters==1.5.0\n",
      "\n",
      "parso==0.8.3\n",
      "\n",
      "pathspec==0.9.0\n",
      "\n",
      "pexpect==4.8.0\n",
      "\n",
      "pickleshare==0.7.5\n",
      "\n",
      "Pillow==9.0.0\n",
      "\n",
      "pipenv==2021.11.23\n",
      "\n",
      "platformdirs==2.4.1\n",
      "\n",
      "pluggy==1.0.0\n",
      "\n",
      "prometheus-client==0.13.0\n",
      "\n",
      "prompt-toolkit==3.0.25\n",
      "\n",
      "ptyprocess==0.7.0\n",
      "\n",
      "pure-eval==0.2.2\n",
      "\n",
      "py==1.11.0\n",
      "\n",
      "pycparser==2.21\n",
      "\n",
      "Pygments==2.11.2\n",
      "\n",
      "pyparsing==3.0.6\n",
      "\n",
      "pyrsistent==0.18.1\n",
      "\n",
      "pytest==6.2.5\n",
      "\n",
      "python-dateutil==2.8.2\n",
      "\n",
      "pytz==2021.3\n",
      "\n",
      "pyzmq==22.3.0\n",
      "\n",
      "qtconsole==5.2.2\n",
      "\n",
      "QtPy==2.0.1\n",
      "\n",
      "requests==2.27.1\n",
      "\n",
      "Send2Trash==1.8.0\n",
      "\n",
      "six==1.16.0\n",
      "\n",
      "sniffio==1.2.0\n",
      "\n",
      "snowballstemmer==2.2.0\n",
      "\n",
      "Sphinx==4.3.2\n",
      "\n",
      "sphinx-autobuild==2021.3.14\n",
      "\n",
      "sphinxcontrib-applehelp==1.0.2\n",
      "\n",
      "sphinxcontrib-devhelp==1.0.2\n",
      "\n",
      "sphinxcontrib-htmlhelp==2.0.0\n",
      "\n",
      "sphinxcontrib-jsmath==1.0.1\n",
      "\n",
      "sphinxcontrib-qthelp==1.0.3\n",
      "\n",
      "sphinxcontrib-serializinghtml==1.1.5\n",
      "\n",
      "stack-data==0.1.4\n",
      "\n",
      "terminado==0.13.1\n",
      "\n",
      "testpath==0.5.0\n",
      "\n",
      "toml==0.10.2\n",
      "\n",
      "tomli==1.2.3\n",
      "\n",
      "tornado==6.1\n",
      "\n",
      "traitlets==5.1.1\n",
      "\n",
      "typing_extensions==4.0.1\n",
      "\n",
      "urllib3==1.26.8\n",
      "\n",
      "userpath==1.7.0\n",
      "\n",
      "virtualenv==20.13.0\n",
      "\n",
      "virtualenv-clone==0.5.7\n",
      "\n",
      "wcwidth==0.2.5\n",
      "\n",
      "webencodings==0.5.1\n",
      "\n",
      "websocket-client==1.2.3\n",
      "\n",
      "widgetsnbextension==3.5.2\n",
      "\n"
     ]
    }
   ],
   "source": [
    "class FileIterator:\n",
    "    def __init__(self, filename):\n",
    "        self.filename = filename\n",
    "        self.file_handle = open(filename, 'r')\n",
    "        \n",
    "    def readline(self):\n",
    "        while line := self.file_handle.readline():\n",
    "            yield line\n",
    "        self.file_handle.close()\n",
    "        \n",
    "requirements = FileIterator('requirements.txt')\n",
    "for line in requirements.readline():\n",
    "    print(line)\n"
   ]
  },
  {
   "cell_type": "code",
   "execution_count": 90,
   "id": "5fb9ffdd",
   "metadata": {},
   "outputs": [
    {
     "name": "stdout",
     "output_type": "stream",
     "text": [
      "25\n"
     ]
    }
   ],
   "source": [
    "print(sum((x for x in range(10) if x %2 == 1)))"
   ]
  },
  {
   "cell_type": "code",
   "execution_count": 4,
   "id": "aa87c989",
   "metadata": {},
   "outputs": [
    {
     "name": "stdout",
     "output_type": "stream",
     "text": [
      "31\n",
      "H\n",
      "array('u', 'Hello')\n",
      "<class 'str'>\n",
      "4\n"
     ]
    }
   ],
   "source": [
    "from array import array\n",
    "\n",
    "# Build an array of unicode characters (strings) from a single larger string.\n",
    "string_elements = array(\"u\", \"Hello, array lovers everywhere!\")\n",
    "print(len(string_elements))\n",
    "print(string_elements[0])\n",
    "print(string_elements[0:5])\n",
    "print(type(string_elements[0]))\n",
    "print(string_elements.itemsize)"
   ]
  },
  {
   "cell_type": "markdown",
   "id": "f9b0904b",
   "metadata": {},
   "source": [
    "In the example above, the first parameter to the array constructor is a type code, in this case saying we're dealing with Unicode characters.  The second parameter is a string, which is converted into an array of type ```wchar_t``` internally in C. However, when we access an element of the list, Python converts the character to the Python string type, as we see in the last line.  It does the same thing for slices in this case.\n",
    "\n",
    "We get a very different result if we change the type to an array of bytes."
   ]
  },
  {
   "cell_type": "code",
   "execution_count": 18,
   "id": "8fb9d8a1",
   "metadata": {},
   "outputs": [
    {
     "name": "stdout",
     "output_type": "stream",
     "text": [
      "31\n",
      "72\n",
      "array('B', [72, 101, 108, 108, 111])\n",
      "<class 'int'>\n",
      "1\n"
     ]
    }
   ],
   "source": [
    "from array import array\n",
    "\n",
    "# Build an array of unicode characters (strings) from a single larger string.\n",
    "string_elements = array('B', b\"Hello, array lovers everywhere!\")\n",
    "\n",
    "print(len(string_elements))\n",
    "print(string_elements[0])\n",
    "print(string_elements[0:5])\n",
    "print(type(string_elements[0]))\n",
    "print(string_elements.itemsize)"
   ]
  },
  {
   "cell_type": "code",
   "execution_count": 5,
   "id": "ffde313a",
   "metadata": {},
   "outputs": [],
   "source": [
    "# Build an array from the list\n",
    "long_list = [x for x in range(1,101)]\n",
    "\n",
    "# Array of signed short integers\n",
    "short_array = array(\"h\", long_list)\n",
    "\n",
    "# Array of unsigned long integers\n",
    "long_array = array(\"L\", long_list)"
   ]
  },
  {
   "cell_type": "markdown",
   "id": "57ec37e0",
   "metadata": {},
   "source": [
    "Here, the \"b\" prefix before the string means to treat the string as an array of bytes, and it's represented internally as an unsigned char.  Because the string is in English, the length Python returns is the same in both cases, because it's the length of the array, not the underlying byte representation.  This works out because the first 128 ASCII characters in UTF-8 use the same 1-byte value that ASCII uses."
   ]
  },
  {
   "cell_type": "code",
   "execution_count": 20,
   "id": "97f4f2fd",
   "metadata": {},
   "outputs": [
    {
     "name": "stdout",
     "output_type": "stream",
     "text": [
      "8\n"
     ]
    }
   ],
   "source": [
    "double_array = array(\"d\", [42.42])\n",
    "print(double_array.itemsize)"
   ]
  },
  {
   "cell_type": "markdown",
   "id": "b40989c9",
   "metadata": {},
   "source": [
    "In addition to the space savings (in the case of more compact data types like short integers or chars), it's possible that Python may also be gaining some runtime efficiency from when it resolves the data to a Python type, since in the list case the code to look up and render the type in Python may be less efficient than it is in the case of arrays, or the looping code may be less efficient in some other way.\n",
    "\n",
    "To test this out, we can use the timeit function to see if the iteration time differs significantly between arrays and lists.  In each case we'll iterate an array of 10,000 numbers 10,000 times."
   ]
  },
  {
   "cell_type": "code",
   "execution_count": 6,
   "id": "1a187116",
   "metadata": {},
   "outputs": [
    {
     "name": "stdout",
     "output_type": "stream",
     "text": [
      "0.2262013330037007\n"
     ]
    }
   ],
   "source": [
    "from timeit import timeit\n",
    "\n",
    "result = timeit(setup=\"num_list = [x for x in range(0,10000)]\", stmt=\"for i in num_list: z = i\", number=10000)\n",
    "print(result)"
   ]
  },
  {
   "cell_type": "code",
   "execution_count": 7,
   "id": "849bf678",
   "metadata": {},
   "outputs": [
    {
     "name": "stdout",
     "output_type": "stream",
     "text": [
      "0.24180920800426975\n"
     ]
    }
   ],
   "source": [
    "from timeit import timeit\n",
    "\n",
    "result = timeit(setup=\"from array import array; num_array = array('i', [x for x in range(0,10000)])\", stmt=\"for i in num_array: z = i\", number=10000)\n",
    "print(result)"
   ]
  },
  {
   "cell_type": "code",
   "execution_count": 4,
   "id": "d09daa92",
   "metadata": {},
   "outputs": [
    {
     "name": "stderr",
     "output_type": "stream",
     "text": [
      "/Users/johnlockwood/source/JohnLockwood/100-days-of-python/day-15/.venv/lib/pypy3.8/site-packages/numpy/core/_add_newdocs.py:2826: UserWarning: add_newdoc was used on a pure-python object <bound method __class_getitem__ of <class 'numpy.ndarray'>>. Prefer to attach it directly to the source.\n",
      "  add_newdoc('numpy.core.multiarray', 'ndarray', ('__class_getitem__',\n",
      "/Users/johnlockwood/source/JohnLockwood/100-days-of-python/day-15/.venv/lib/pypy3.8/site-packages/numpy/core/_add_newdocs.py:6128: UserWarning: add_newdoc was used on a pure-python object <bound method __class_getitem__ of <class 'numpy.dtype'>>. Prefer to attach it directly to the source.\n",
      "  add_newdoc('numpy.core.multiarray', 'dtype', ('__class_getitem__',\n",
      "/Users/johnlockwood/source/JohnLockwood/100-days-of-python/day-15/.venv/lib/pypy3.8/site-packages/numpy/core/_add_newdocs.py:6640: UserWarning: add_newdoc was used on a pure-python object <bound method __class_getitem__ of <class 'numpy.number'>>. Prefer to attach it directly to the source.\n",
      "  add_newdoc('numpy.core.numerictypes', 'number', ('__class_getitem__',\n"
     ]
    },
    {
     "name": "stdout",
     "output_type": "stream",
     "text": [
      "35.17996854199737\n"
     ]
    }
   ],
   "source": [
    "from timeit import timeit\n",
    "\n",
    "result = timeit(setup=\"import numpy as np; np_array = np.array([x for x in range(0,10000)])\", stmt=\"for i in np_array: z = i\", number=10000)\n",
    "print(result)"
   ]
  },
  {
   "cell_type": "code",
   "execution_count": 8,
   "id": "5c58e40f",
   "metadata": {},
   "outputs": [
    {
     "name": "stdout",
     "output_type": "stream",
     "text": [
      "0.29 seconds -- Python sum function on a list of numbers.\n",
      "0.633 seconds -- Python sum function on a bytearray of numbers.\n",
      "74.7397 seconds -- Python sum function on a NumPy array.\n",
      "0.056 seconds -- NumPy sum method on a NumPy array.\n"
     ]
    }
   ],
   "source": [
    "# Do a sum on three different types of lists.  First let's make a long list (approximately 256,000)  \n",
    "# numeric values that can fit in a byte\n",
    "\n",
    "from timeit import timeit\n",
    "\n",
    "iterations = 500\n",
    "\n",
    "def display(elapsed_time, message, rounding=3):\n",
    "    print(f\"{round(elapsed_time, rounding)} seconds -- {message}.\")\n",
    "\n",
    "result = timeit(setup=\"num_list = [n for n in range(0,256)] * 1000\", \n",
    "                stmt=\"sum(num_list)\", number=iterations)\n",
    "display(result, \"Python sum function on a list of numbers\")\n",
    "\n",
    "result = timeit(setup=\"l = [n for n in range(0,256)] * 1000; num_array = bytearray(l)\", \n",
    "                stmt=\"sum(num_array)\", number=iterations)\n",
    "display(result, \"Python sum function on a bytearray of numbers\")\n",
    "\n",
    "result = timeit(setup=\"import numpy as np; l = [n for n in range(0,256)] * 1000; np_array = np.array(l)\", \n",
    "                stmt=\"sum(np_array)\", number=iterations)\n",
    "display(result, \"Python sum function on a NumPy array\", rounding=4)\n",
    "\n",
    "result = timeit(setup=\"import numpy as np; l = [n for n in range(0,256)] * 1000; np_array = np.array(l)\", \n",
    "                stmt=\"np_array.sum()\", number=iterations)\n",
    "display(result, \"NumPy sum method on a NumPy array\")\n"
   ]
  },
  {
   "cell_type": "code",
   "execution_count": 10,
   "id": "dea2186f",
   "metadata": {},
   "outputs": [
    {
     "name": "stdout",
     "output_type": "stream",
     "text": [
      "[0, 0, 0, 0, 0]\n",
      "[0, 0, 0, 0, 0]\n"
     ]
    }
   ],
   "source": [
    "list_numbers = [0, 0, 0, 0, 0]\n",
    "print(list_numbers)\n",
    "first_three = list_numbers[0:2]\n",
    "first_three[0] = 100\n",
    "first_three[1] = 99\n",
    "print(list_numbers)"
   ]
  },
  {
   "cell_type": "code",
   "execution_count": 11,
   "id": "334b502c",
   "metadata": {},
   "outputs": [
    {
     "name": "stdout",
     "output_type": "stream",
     "text": [
      "[0, 0, 0, 0, 0]\n",
      "[5, 6, 0, 0, 0, 0]\n"
     ]
    }
   ],
   "source": [
    "list_numbers = [0, 0, 0, 0, 0]\n",
    "print(list_numbers)\n",
    "list_numbers[0:1]  = [5,6]\n",
    "print(list_numbers)"
   ]
  },
  {
   "cell_type": "code",
   "execution_count": 38,
   "id": "cb6ddb71",
   "metadata": {},
   "outputs": [
    {
     "name": "stdout",
     "output_type": "stream",
     "text": [
      "[0, 0, 0, 0, 0]\n",
      "[100, 99, 0, 0, 0]\n"
     ]
    }
   ],
   "source": [
    "memoryview_numbers = memoryview(bytearray(5))\n",
    "print(memoryview_numbers.tolist())\n",
    "first_three = memoryview_numbers[0:2]\n",
    "first_three[0] = 100\n",
    "first_three[1] = 99\n",
    "print(memoryview_numbers.tolist())"
   ]
  },
  {
   "cell_type": "code",
   "execution_count": null,
   "id": "6f039b2a",
   "metadata": {},
   "outputs": [],
   "source": []
  }
 ],
 "metadata": {
  "kernelspec": {
   "display_name": "Python 3 (ipykernel)",
   "language": "python",
   "name": "python3"
  },
  "language_info": {
   "codemirror_mode": {
    "name": "ipython",
    "version": 3
   },
   "file_extension": ".py",
   "mimetype": "text/x-python",
   "name": "python",
   "nbconvert_exporter": "python",
   "pygments_lexer": "ipython3",
   "version": "3.8.12"
  }
 },
 "nbformat": 4,
 "nbformat_minor": 5
}
