{
 "cells": [
  {
   "cell_type": "markdown",
   "metadata": {},
   "source": [
    "# Keyword-Only Parameters Without Variable Positional Arguments\n",
    "\n",
    "We saw above that in Python, any parameters following a variable positional argument become keyword-only parameters.  But what if we wanted to force a some parameters to be keyword-only without supporting variable positional arguments?\n",
    "\n",
    "In this case, we use a slight variation on the *args syntax.  Here, we make it clear that there are no variable arguments allowed by simply denoting the end of the positional arguments with an unnamed, bare \"\\*\"."
   ]
  },
  {
   "cell_type": "code",
   "execution_count": 5,
   "metadata": {},
   "outputs": [
    {
     "name": "stdout",
     "output_type": "stream",
     "text": [
      "John codes in Python.\n"
     ]
    },
    {
     "ename": "TypeError",
     "evalue": "print_person_info() takes 1 positional argument but 2 were given",
     "output_type": "error",
     "traceback": [
      "\u001b[0;31m---------------------------------------------------------------------------\u001b[0m",
      "\u001b[0;31mTypeError\u001b[0m                                 Traceback (most recent call last)",
      "\u001b[0;32m/var/folders/4t/qm1dzj2n01j6zdcdtw2_g0l80000gn/T/ipykernel_3849/289336670.py\u001b[0m in \u001b[0;36m<module>\u001b[0;34m\u001b[0m\n\u001b[1;32m     13\u001b[0m \u001b[0;34m\u001b[0m\u001b[0m\n\u001b[1;32m     14\u001b[0m \u001b[0;31m# This\u001b[0m\u001b[0;34m\u001b[0m\u001b[0;34m\u001b[0m\u001b[0m\n\u001b[0;32m---> 15\u001b[0;31m \u001b[0mprint_person_info\u001b[0m\u001b[0;34m(\u001b[0m\u001b[0;34m\"John\"\u001b[0m\u001b[0;34m,\u001b[0m \u001b[0;32mFalse\u001b[0m\u001b[0;34m)\u001b[0m\u001b[0;34m\u001b[0m\u001b[0;34m\u001b[0m\u001b[0m\n\u001b[0m\u001b[1;32m     16\u001b[0m \u001b[0;34m\u001b[0m\u001b[0m\n",
      "\u001b[0;31mTypeError\u001b[0m: print_person_info() takes 1 positional argument but 2 were given"
     ]
    }
   ],
   "source": [
    "def print_person_info(name, *, codes_in_python):\n",
    "    \"\"\"Print a person's name, and whether they code in python.\n",
    "       codes_in_python must be passed by keyword\n",
    "    \"\"\"    \n",
    "    if codes_in_python:\n",
    "        print(f\"{name} codes in Python.\")\n",
    "    else:\n",
    "        print(f\"{name} is missing out on the fun.\")\n",
    "    \n",
    "# This code is fine, pass final argument by keyword\n",
    "print_person_info(\"John\", codes_in_python=True)\n",
    "\n",
    "# BAD CODE:  generates an error\n",
    "print_person_info(\"John\", False)\n",
    "\n"
   ]
  },
  {
   "cell_type": "markdown",
   "metadata": {},
   "source": [
    "# Positional-only Parameters\n",
    "\n",
    "In addition to supporting keyword-only parameters, newer versions of Python (from 3.8 onwards), support having parameters that must be specified by position.  One of the stated reasons for the change (in [PEP 570](https://www.python.org/dev/peps/pep-0570/)) was that it allowed a function's authors to change the name of positional parameters without breaking existing callers.  It's especially useful when a function supports a keyword argument but also accepts a positional one.\n",
    "\n",
    "Positional-only parameters are specified by introducing a forward-slash character, \"/\", into a function's definition.  Parameters before this special character must be specified by position.\n",
    "\n",
    "Let's return to our simple greet function from the start of the article to see how this would work."
   ]
  },
  {
   "cell_type": "code",
   "execution_count": 8,
   "metadata": {},
   "outputs": [
    {
     "name": "stdout",
     "output_type": "stream",
     "text": [
      "Hello, Moe!\n",
      "Hello, Larry!\n",
      "Hello, Curly!\n"
     ]
    },
    {
     "ename": "TypeError",
     "evalue": "greet_positional() got some positional-only arguments passed as keyword arguments: 'name'",
     "output_type": "error",
     "traceback": [
      "\u001b[0;31m---------------------------------------------------------------------------\u001b[0m",
      "\u001b[0;31mTypeError\u001b[0m                                 Traceback (most recent call last)",
      "\u001b[0;32m/var/folders/4t/qm1dzj2n01j6zdcdtw2_g0l80000gn/T/ipykernel_3849/3235611895.py\u001b[0m in \u001b[0;36m<module>\u001b[0;34m\u001b[0m\n\u001b[1;32m     17\u001b[0m \u001b[0;34m\u001b[0m\u001b[0m\n\u001b[1;32m     18\u001b[0m \u001b[0;31m# BROKEN - Try to call positional-only by keyword\u001b[0m\u001b[0;34m\u001b[0m\u001b[0;34m\u001b[0m\u001b[0m\n\u001b[0;32m---> 19\u001b[0;31m \u001b[0mgreet_positional\u001b[0m\u001b[0;34m(\u001b[0m\u001b[0mname\u001b[0m\u001b[0;34m=\u001b[0m\u001b[0;34m\"Shemp\"\u001b[0m\u001b[0;34m)\u001b[0m\u001b[0;34m\u001b[0m\u001b[0;34m\u001b[0m\u001b[0m\n\u001b[0m\u001b[1;32m     20\u001b[0m \u001b[0;34m\u001b[0m\u001b[0m\n\u001b[1;32m     21\u001b[0m \u001b[0;34m\u001b[0m\u001b[0m\n",
      "\u001b[0;31mTypeError\u001b[0m: greet_positional() got some positional-only arguments passed as keyword arguments: 'name'"
     ]
    }
   ],
   "source": [
    "def greet_flexible(name):\n",
    "    \"\"\"accepts a standard argument, positional or keyword\"\"\"\n",
    "    print(f\"Hello, {name}!\")\n",
    "\n",
    "# OK, call by position\n",
    "greet_flexible(\"Moe\")\n",
    "\n",
    "# Also OK, call by keyword\n",
    "greet_flexible(name=\"Larry\")\n",
    "\n",
    "def greet_positional(name, /):\n",
    "    \"\"\"accepts a standard argument, positional only!\"\"\"\n",
    "    print(f\"Hello, {name}!\")\n",
    "    \n",
    "# OK, positional!\n",
    "greet_positional(\"Curly\")\n",
    "\n",
    "# BROKEN - Try to call positional-only parameter using a keyword argument\n",
    "greet_positional(name=\"Shemp\")"
   ]
  }
 ],
 "metadata": {
  "interpreter": {
   "hash": "aee8b7b246df8f9039afb4144a1f6fd8d2ca17a180786b69acc140d282b71a49"
  },
  "kernelspec": {
   "display_name": "Python 3 (ipykernel)",
   "language": "python",
   "name": "python3"
  },
  "language_info": {
   "codemirror_mode": {
    "name": "ipython",
    "version": 3
   },
   "file_extension": ".py",
   "mimetype": "text/x-python",
   "name": "python",
   "nbconvert_exporter": "python",
   "pygments_lexer": "ipython3",
   "version": "3.10.0"
  }
 },
 "nbformat": 4,
 "nbformat_minor": 4
}
