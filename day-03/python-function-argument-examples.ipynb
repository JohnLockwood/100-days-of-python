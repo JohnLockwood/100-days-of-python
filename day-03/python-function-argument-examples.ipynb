{
 "cells": [
  {
   "cell_type": "markdown",
   "metadata": {},
   "source": [
    "# Python Function Arguments and Parameters Examples"
   ]
  },
  {
   "cell_type": "markdown",
   "metadata": {},
   "source": [
    "## Introduction\n",
    "\n",
    "Python functions have a relatively simple syntax that is very beginner-friendly.  If you're at the start of your Python journey, that may be all you need to practice.  However, as you go deeper into the language, you'll learn that compared to other programming languages, Python has a very rich and flexible syntax for calling functions.\n",
    "\n",
    "The great news about this flexibility is that -- done right -- it supports functions that are both easy to use and maintainable over time without breaking existing callers.  The downside of course is that it can take a little work to master the many options that are available.  This is especially true now, since Python 3 has added many great enhancements, such as keyword only arguments (Python 3.0) and positional only arguments (Python 3.8).  \n",
    "\n",
    "The goal of this article -- which we'll likely break into a few parts -- is to start with the simplest information about Python function arguments and some basic background on Python functions that we hope beginners will find useful, and gradually introduce many, many examples of the Python function calling convention"
   ]
  },
  {
   "cell_type": "markdown",
   "metadata": {},
   "source": [
    "## Simple Functions for Beginners\n",
    "\n",
    "If you're a complete beginner and are unfamiliar with Python functions, this section is for you.  Note that this isn't a complete beginner discussion of Python functions, because we want to focus for now on parameters and arguments.\n",
    "\n",
    "What's the difference?  Well, although the terms \"argument\" and \"parameter\" are sometimes used interchangeably, formally speaking, a function is designed to take zero or more parameters, which the caller then passes as arguments.  Parameters have names, but the name the caller uses to call the function can be different, or -- if you're calling the function with a literal value -- you may not have a name on the caller side at all.\n",
    "\n",
    "To make this more concrete, let's take a very simple example.\n"
   ]
  },
  {
   "cell_type": "code",
   "execution_count": 1,
   "metadata": {},
   "outputs": [
    {
     "name": "stdout",
     "output_type": "stream",
     "text": [
      "Hello, World.\n",
      "Hello, John.\n"
     ]
    }
   ],
   "source": [
    "# Define a function with one parameter, with the name \"name\"\n",
    "def greet(name):\n",
    "    print(f\"Hello, {name}.\")\n",
    "\n",
    "# Pass a literal as an argument\n",
    "greet(\"World\")\n",
    "\n",
    "# Call the function with one argument using a different name\n",
    "my_name = \"John\"\n",
    "greet(my_name)\n"
   ]
  },
  {
   "cell_type": "markdown",
   "metadata": {},
   "source": [
    "## Simple Keyword Arguments\n",
    "\n",
    "A function with positional parameters can be called either positionally (as we've already seen) or using keyword arguments.  In this case, nothing more is needed when defining the function.\n",
    "\n",
    "This has two advantages:\n",
    "* It clarifies which argument is being supplied at the point where the call is made.\n",
    "* Less importantly, it means the caller doesn't need to remember the order of the arguments.  This is perhaps less clear, but the tradeoff is more convenience for the caller.\n",
    "\n",
    "Positional and keyword arguments can also be mixed, but positional arguments must come first."
   ]
  },
  {
   "cell_type": "code",
   "execution_count": 2,
   "metadata": {},
   "outputs": [
    {
     "name": "stdout",
     "output_type": "stream",
     "text": [
      "Hello, World.\n",
      "Nice example for out of order calling, John!\n",
      "Hello, programmer!\n"
     ]
    }
   ],
   "source": [
    "def greet(message, name, punctuation):\n",
    "    '''simple demo of \"plain\" function parameters'''\n",
    "    print(f\"{message}, {name}{punctuation}\")\n",
    "\n",
    "# We can call it via plain positional arguments\n",
    "greet(\"Hello\", \"World\", \".\")\n",
    "\n",
    "# We can call it in order or out of order using keyword arguments\n",
    "greet(name=\"John\", message=\"Nice example for out of order calling\", punctuation=\"!\")\n",
    "\n",
    "# We can mix positional arguments and keyword, but positional must come first:\n",
    "greet(\"Hello\", punctuation=\"!\", name=\"programmer\")"
   ]
  },
  {
   "cell_type": "markdown",
   "metadata": {},
   "source": [
    "Again, the important point is that no positional arguments can appear after a keyword argument, even if the order appears coorect."
   ]
  },
  {
   "cell_type": "code",
   "execution_count": 3,
   "metadata": {},
   "outputs": [],
   "source": [
    "# SyntaxError: positional argument follows keyword argument\n",
    "# BAD CALL:\n",
    "# greet(message=\"Hello\", name=\"programmer\", \"!\")"
   ]
  },
  {
   "cell_type": "markdown",
   "metadata": {},
   "source": [
    "## Type hints\n",
    "\n",
    "Python introduced type hints in Python 3.5, and their use is encouraged.  Type hints are a way to document the type of a function's parameters, and some third party tools may use this information to display an error if the function is called with an argument of the incorrect type. Note that the Python runtime does not enforce type checking for type hints.\n",
    "\n",
    "We're not dealing with type hints in detail here, and we don't use them in the examples shown here only to make the code as simple as possible.  But for non-tutorial code, they really are a best practice that we recommend.\n",
    "\n",
    "That said, a simple definition and example may suffice.\n",
    "\n",
    "Type hints follow the syntax:\n",
    "\n",
    "```\n",
    "argument_name:type_name\n",
    "```\n",
    "\n",
    "For example, rewriting our greet function with named arguments, it looks like this."
   ]
  },
  {
   "cell_type": "code",
   "execution_count": 4,
   "metadata": {},
   "outputs": [
    {
     "name": "stdout",
     "output_type": "stream",
     "text": [
      "Hello, world!\n"
     ]
    }
   ],
   "source": [
    "def greet(message: str, name: str, punctuation: str):\n",
    "    '''simple demo of \"typed\" parameters'''\n",
    "    print(f\"{message}, {name}{punctuation}\")\n",
    "    \n",
    "# The call looks the same:\n",
    "greet(\"Hello\", \"world\", \"!\")\n"
   ]
  },
  {
   "cell_type": "markdown",
   "metadata": {},
   "source": [
    "## Default Arguments\n",
    "\n",
    "The Python documentation lists default arguments as one of the most common, useful use cases for Python functions.\n",
    "\n",
    "Default arguments are added by simply using an equals sign after the argument name.  Note that, unlike assignment expresssions, in this case, PEP8 recommends no space before and after the equals sign, so use:\n",
    "\n",
    "```\n",
    "argname=default\n",
    "```\n",
    "\n",
    "not  \n",
    "\n",
    "```\n",
    "argname = default\n",
    "```\n",
    "\n",
    "Our ```greet``` example is a simple case where a default argument would have improved the function. Since we usually want to greet folks enthusiastically, let's add an exclamation point default."
   ]
  },
  {
   "cell_type": "code",
   "execution_count": 5,
   "metadata": {},
   "outputs": [],
   "source": [
    "def greet(message, name, punctuation=\"!\"):\n",
    "    '''simple demo of a function with a single default parameter'''\n",
    "    print(f\"{message}, {name}{punctuation}\")"
   ]
  },
  {
   "cell_type": "markdown",
   "metadata": {},
   "source": [
    "Use the defaults or override them."
   ]
  },
  {
   "cell_type": "code",
   "execution_count": 6,
   "metadata": {},
   "outputs": [
    {
     "name": "stdout",
     "output_type": "stream",
     "text": [
      "Hello, best friend!\n",
      "Oh, hi, lame person...\n"
     ]
    }
   ],
   "source": [
    "# Use the default for someone you like\n",
    "greet(\"Hello\", \"best friend\")\n",
    "\n",
    "# Override the default for your nemesis\n",
    "greet(\"Oh, hi\", \"lame person\", \"...\")"
   ]
  },
  {
   "cell_type": "markdown",
   "metadata": {},
   "source": [
    "Note that because we want to still be able to support arguments by position, default arguments should come at the end, with those where the defaults are most likely to be overridden first."
   ]
  },
  {
   "cell_type": "markdown",
   "metadata": {},
   "source": [
    "## Default Arguments are only evaluated once\n",
    "\n",
    "A subtle but important point about default arguments is that they are evaluated only once, not every time the function is called.  So for mutable values like lists, dicts, etc., this may cause unexpected results.  Let's take as an example a function that tries to append an item to a list (The function is not one you should really write since it doesn't do add anything to list.append, but it's useful as an illustration):"
   ]
  },
  {
   "cell_type": "code",
   "execution_count": 7,
   "metadata": {},
   "outputs": [
    {
     "name": "stdout",
     "output_type": "stream",
     "text": [
      "[42]\n",
      "[42, 'Golden Retriever']\n"
     ]
    }
   ],
   "source": [
    "def append_one_item_to_list(item, item_list=[]):\n",
    "    '''try to add an item to the list and create the list if it does not exist'''\n",
    "    item_list.append(item)\n",
    "    return item_list\n",
    "\n",
    "list_one_number = append_one_item_to_list(42)\n",
    "print(list_one_number)\n",
    "\n",
    "dog_list = append_one_item_to_list('Golden Retriever')\n",
    "print(dog_list)"
   ]
  },
  {
   "cell_type": "markdown",
   "metadata": {},
   "source": [
    "Instead, to ensure that the list only gets create once, write your function this way:"
   ]
  },
  {
   "cell_type": "code",
   "execution_count": 8,
   "metadata": {},
   "outputs": [
    {
     "name": "stdout",
     "output_type": "stream",
     "text": [
      "[42]\n",
      "['Golden Retriever']\n",
      "['Moe', 'Larry', 'Curly']\n"
     ]
    }
   ],
   "source": [
    "def append_one_item_to_list(item, item_list=None):    \n",
    "    '''add an item to the list and create the list if it does not exist'''\n",
    "    if not item_list:\n",
    "        item_list = []\n",
    "    item_list.append(item)\n",
    "    return item_list\n",
    "\n",
    "list_one_number = append_one_item_to_list(42)\n",
    "print(list_one_number)\n",
    "\n",
    "dog_list = append_one_item_to_list('Golden Retriever')\n",
    "print(dog_list)\n",
    "\n",
    "# We can still add items to a list that's already created, \n",
    "# of course.  Here the fact that we're just wrapping list.append becomes really obvious.\n",
    "\n",
    "stooges = ['Moe', 'Larry']\n",
    "more_stooges = append_one_item_to_list('Curly', stooges)\n",
    "\n",
    "print(more_stooges)"
   ]
  },
  {
   "cell_type": "markdown",
   "metadata": {},
   "source": [
    "# Added on Day 3"
   ]
  },
  {
   "cell_type": "markdown",
   "metadata": {},
   "source": [
    "## Variable Arguments in Python:  *args and **kwargs\n",
    "\n",
    "Whether passed by position, by keyword, or a mixture of both, so far we've looked at functions that support a fairly fixed number of arguments.  That is to say, any parameters without a default must be supplied.  If you don't supply an argument for a non-default parameter, it's an error.  Let's see our greet function again and see what happens."
   ]
  },
  {
   "cell_type": "code",
   "execution_count": 3,
   "metadata": {},
   "outputs": [
    {
     "ename": "TypeError",
     "evalue": "greet() missing 1 required positional argument: 'name'",
     "output_type": "error",
     "traceback": [
      "\u001b[0;31m---------------------------------------------------------------------------\u001b[0m",
      "\u001b[0;31mTypeError\u001b[0m                                 Traceback (most recent call last)",
      "\u001b[0;32m/var/folders/4t/qm1dzj2n01j6zdcdtw2_g0l80000gn/T/ipykernel_65130/2471597624.py\u001b[0m in \u001b[0;36m<module>\u001b[0;34m\u001b[0m\n\u001b[1;32m      4\u001b[0m     \u001b[0mprint\u001b[0m\u001b[0;34m(\u001b[0m\u001b[0;34mf\"{message}, {name}{punctuation}\"\u001b[0m\u001b[0;34m)\u001b[0m\u001b[0;34m\u001b[0m\u001b[0;34m\u001b[0m\u001b[0m\n\u001b[1;32m      5\u001b[0m \u001b[0;34m\u001b[0m\u001b[0m\n\u001b[0;32m----> 6\u001b[0;31m \u001b[0mgreet\u001b[0m\u001b[0;34m(\u001b[0m\u001b[0;34m\"Hi there\"\u001b[0m\u001b[0;34m)\u001b[0m\u001b[0;34m\u001b[0m\u001b[0;34m\u001b[0m\u001b[0m\n\u001b[0m",
      "\u001b[0;31mTypeError\u001b[0m: greet() missing 1 required positional argument: 'name'"
     ]
    }
   ],
   "source": [
    "# CAUTION:  This code generates an error!\n",
    "def greet(message, name, punctuation=\"!\"):\n",
    "    '''simple demo of a function with a single default parameter'''\n",
    "    print(f\"{message}, {name}{punctuation}\")\n",
    "\n",
    "greet(\"Hi there\")"
   ]
  },
  {
   "cell_type": "markdown",
   "metadata": {},
   "source": [
    "In Python as in some other languages, it's also possible to supply a variable number of positional or keyword arguments.  By convention, variable postional arguments are by a parameter named ```*args```, and keyword arguments are specified usually by a parameter called ```**kwargs```.  I say \"by convention\" and usually, because strictly speaking, the names don't matter as much as the asterisks at the beginning of the name, but the convention is very firmly entrenched, so it's best to just stick with the names *args and *kwargs.\n",
    "\n",
    "## Variable Positional Arguments Only\n",
    "\n",
    "At the risk of making you hungry, let's imagine you wanted a function to print all your favorite things to eat, one food per line.  But because your tastes change from day to day, sometimes you want to print only one thing to eat, but on other days you wanted to print out a one or two things, some days you want to print out a whole list.\n",
    "\n",
    "How can we support this?"
   ]
  },
  {
   "cell_type": "code",
   "execution_count": 21,
   "metadata": {},
   "outputs": [
    {
     "name": "stdout",
     "output_type": "stream",
     "text": [
      "Calling with one argument\n",
      "Soup\n",
      "\n",
      "Calling with three arguments\n",
      "Soup\n",
      "Sandwich\n",
      "Coffee\n"
     ]
    }
   ],
   "source": [
    "def print_foods(*args):\n",
    "    \"\"\"prints one or more foods passed as a single list or as one or more positional arguments\"\"\"\n",
    "    for food in args:\n",
    "        print(food)\n",
    "\n",
    "print(\"Calling with one argument\")\n",
    "print_foods(\"Soup\")\n",
    "\n",
    "# New line\n",
    "print()\n",
    "\n",
    "print(\"Calling with three arguments\")\n",
    "print_foods(\"Soup\", \"Sandwich\", \"Coffee\")"
   ]
  },
  {
   "cell_type": "markdown",
   "metadata": {},
   "source": [
    "## Calling Variable Positional Arguments with a List\n",
    "\n",
    "What if you had a long list of foods or even a set (or any other iterable)? Would you have to manually copy out the arguments?  Not at all.  Here's how you would do it, with a fun thing that's usually called a \"splat\" operator in Python:  \"*\". \n",
    "\n",
    "It works pretty much the same way as the spread operator in JavaScript (...), so if you like that name better, I won't stop you.  Whatever you call it, this operator turns the iterable you prefix it with into a set of arguments for the function call."
   ]
  },
  {
   "cell_type": "code",
   "execution_count": 35,
   "metadata": {},
   "outputs": [
    {
     "name": "stdout",
     "output_type": "stream",
     "text": [
      "TRADITIONAL:\n",
      "Turkey\n",
      "Gravy\n",
      "Mashed Potatoes\n",
      "Stuffing\n",
      "Cranberry Sauce\n",
      "Pumpkin Pie\n",
      "\n",
      "VEGAN:\n",
      "Impossible Burger Meat Loaf\n",
      "Mushroom Gravy\n",
      "Mashed Potatoes\n",
      "Stuffing\n",
      "Turnips\n",
      "Cranberry Sauce\n",
      "Apple Cobbler\n"
     ]
    }
   ],
   "source": [
    "traditional_thanksgiving_list = [\"Turkey\", \"Gravy\", \"Mashed Potatoes\", \"Stuffing\", \"Cranberry Sauce\", \"Pumpkin Pie\"]\n",
    "\n",
    "vegan_thanksgiving_tuple = (\"Impossible Burger Meat Loaf\", \"Mushroom Gravy\", \"Mashed Potatoes\", \"Stuffing\", \"Turnips\",  \"Cranberry Sauce\", \"Apple Cobbler\")\n",
    "\n",
    "# Note the * at the beginning here, the splat operator\n",
    "print(\"TRADITIONAL:\")\n",
    "print_foods(*traditional_thanksgiving_list)\n",
    "\n",
    "# New line\n",
    "print()\n",
    "print(\"VEGAN:\")\n",
    "print_foods(*vegan_thanksgiving_tuple)"
   ]
  },
  {
   "cell_type": "code",
   "execution_count": null,
   "metadata": {},
   "outputs": [],
   "source": [
    "## Variable Keyword Arguments"
   ]
  }
 ],
 "metadata": {
  "interpreter": {
   "hash": "b0fa6594d8f4cbf19f97940f81e996739fb7646882a419484c72d19e05852a7e"
  },
  "kernelspec": {
   "display_name": "Python 3 (ipykernel)",
   "language": "python",
   "name": "python3"
  },
  "language_info": {
   "codemirror_mode": {
    "name": "ipython",
    "version": 3
   },
   "file_extension": ".py",
   "mimetype": "text/x-python",
   "name": "python",
   "nbconvert_exporter": "python",
   "pygments_lexer": "ipython3",
   "version": "3.10.0"
  }
 },
 "nbformat": 4,
 "nbformat_minor": 4
}
